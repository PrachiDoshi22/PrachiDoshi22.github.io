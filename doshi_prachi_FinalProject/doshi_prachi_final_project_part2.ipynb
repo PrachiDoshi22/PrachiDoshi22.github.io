{
 "cells": [
  {
   "cell_type": "code",
   "execution_count": 23,
   "id": "792aed67",
   "metadata": {},
   "outputs": [
    {
     "data": {
      "text/html": [
       "<script>\n",
       "  function code_toggle() {\n",
       "    if (code_shown){\n",
       "      $('div.input').hide('500');\n",
       "      $('#toggleButton').val('Show Code')\n",
       "    } else {\n",
       "      $('div.input').show('500');\n",
       "      $('#toggleButton').val('Hide Code')\n",
       "    }\n",
       "    code_shown = !code_shown\n",
       "  }\n",
       "\n",
       "  $( document ).ready(function(){\n",
       "    code_shown=false;\n",
       "    $('div.input').hide()\n",
       "  });\n",
       "</script>\n",
       "<form action=\"javascript:code_toggle()\"><input type=\"submit\" id=\"toggleButton\" value=\"Show Code\"></form>\n"
      ],
      "text/plain": [
       "<IPython.core.display.HTML object>"
      ]
     },
     "metadata": {},
     "output_type": "display_data"
    }
   ],
   "source": [
    "%%HTML\n",
    "<script>\n",
    "  function code_toggle() {\n",
    "    if (code_shown){\n",
    "      $('div.input').hide('500');\n",
    "      $('#toggleButton').val('Show Code')\n",
    "    } else {\n",
    "      $('div.input').show('500');\n",
    "      $('#toggleButton').val('Hide Code')\n",
    "    }\n",
    "    code_shown = !code_shown\n",
    "  }\n",
    "\n",
    "  $( document ).ready(function(){\n",
    "    code_shown=false;\n",
    "    $('div.input').hide()\n",
    "  });\n",
    "</script>\n",
    "<form action=\"javascript:code_toggle()\"><input type=\"submit\" id=\"toggleButton\" value=\"Show Code\"></form>"
   ]
  },
  {
   "cell_type": "markdown",
   "id": "0dd75398",
   "metadata": {},
   "source": [
    "# Final Project, Part 2\n",
    "##### Prachi Doshi"
   ]
  },
  {
   "cell_type": "markdown",
   "id": "86bcfede",
   "metadata": {},
   "source": [
    "The project is done in a Team of 2. The team mates and their details are:"
   ]
  },
  {
   "cell_type": "markdown",
   "id": "9cee096c",
   "metadata": {},
   "source": [
    "##### Shraddha Tiwari (tiwari5)\n",
    "##### Prachi Doshi (ppdoshi2)"
   ]
  },
  {
   "cell_type": "markdown",
   "id": "884ee755",
   "metadata": {},
   "source": [
    "While this submission is done by me, my teammate Shraddha will submit her individual jupyter notebook as instructed in the assignment details."
   ]
  },
  {
   "cell_type": "markdown",
   "id": "e8c73fe2",
   "metadata": {},
   "source": [
    "In this part of our Final Project, we have developed an interactive Dashboard in terms of a Domain expert as well as explanation for using the interactive Dashboard:"
   ]
  },
  {
   "cell_type": "markdown",
   "id": "d5166bfb",
   "metadata": {},
   "source": [
    "### Getting our usual libraries:"
   ]
  },
  {
   "cell_type": "code",
   "execution_count": 1,
   "id": "dfe50f21",
   "metadata": {},
   "outputs": [],
   "source": [
    "import matplotlib.pyplot as plt  # For creating and manipulating figures and plotting areas\n",
    "import matplotlib # For creating plots\n",
    "import numpy as np # For numeric representation of the data\n",
    "import pandas as pd # For DataFrame manipulation\n",
    "%matplotlib inline\n",
    "import ipywidgets  # For interactivity\n",
    "from ipywidgets import Dropdown # for the extra interactive widget part\n",
    "from ipywidgets import VBox, HBox, Layout # for the extra interactive widget part\n",
    "import bqplot\n",
    "from bqplot import pyplot as plot\n",
    "from bqplot import Tooltip\n",
    "from bokeh.models import HoverTool\n",
    "from bokeh.io import output_notebook\n",
    "from bokeh.plotting import show\n",
    "import ipywidgets as widgets"
   ]
  },
  {
   "cell_type": "markdown",
   "id": "1b7aef4f",
   "metadata": {},
   "source": [
    "### Getting the data:"
   ]
  },
  {
   "cell_type": "code",
   "execution_count": 2,
   "id": "63af3e7b",
   "metadata": {},
   "outputs": [],
   "source": [
    "with open('./flipkart_fashion_products_dataset.json', encoding='utf-8') as inputfile:\n",
    "    df = pd.read_json(inputfile)\n",
    "\n",
    "df.to_csv('flipkart_fashion_products_dataset_1.csv', encoding='utf-8', index=False)"
   ]
  },
  {
   "cell_type": "code",
   "execution_count": 3,
   "id": "60ee2b2a",
   "metadata": {},
   "outputs": [
    {
     "data": {
      "text/html": [
       "<div>\n",
       "<style scoped>\n",
       "    .dataframe tbody tr th:only-of-type {\n",
       "        vertical-align: middle;\n",
       "    }\n",
       "\n",
       "    .dataframe tbody tr th {\n",
       "        vertical-align: top;\n",
       "    }\n",
       "\n",
       "    .dataframe thead th {\n",
       "        text-align: right;\n",
       "    }\n",
       "</style>\n",
       "<table border=\"1\" class=\"dataframe\">\n",
       "  <thead>\n",
       "    <tr style=\"text-align: right;\">\n",
       "      <th></th>\n",
       "      <th>_id</th>\n",
       "      <th>actual_price</th>\n",
       "      <th>average_rating</th>\n",
       "      <th>brand</th>\n",
       "      <th>category</th>\n",
       "      <th>crawled_at</th>\n",
       "      <th>description</th>\n",
       "      <th>discount</th>\n",
       "      <th>images</th>\n",
       "      <th>out_of_stock</th>\n",
       "      <th>pid</th>\n",
       "      <th>product_details</th>\n",
       "      <th>seller</th>\n",
       "      <th>selling_price</th>\n",
       "      <th>sub_category</th>\n",
       "      <th>title</th>\n",
       "      <th>url</th>\n",
       "    </tr>\n",
       "  </thead>\n",
       "  <tbody>\n",
       "    <tr>\n",
       "      <th>0</th>\n",
       "      <td>fa8e22d6-c0b6-5229-bb9e-ad52eda39a0a</td>\n",
       "      <td>2,999</td>\n",
       "      <td>3.9</td>\n",
       "      <td>York</td>\n",
       "      <td>Clothing and Accessories</td>\n",
       "      <td>2021-02-10 20:11:51</td>\n",
       "      <td>Yorker trackpants made from 100% rich combed c...</td>\n",
       "      <td>69% off</td>\n",
       "      <td>[https://rukminim1.flixcart.com/image/128/128/...</td>\n",
       "      <td>False</td>\n",
       "      <td>TKPFCZ9EA7H5FYZH</td>\n",
       "      <td>[{'Style Code': '1005COMBO2'}, {'Closure': 'El...</td>\n",
       "      <td>Shyam Enterprises</td>\n",
       "      <td>921</td>\n",
       "      <td>Bottomwear</td>\n",
       "      <td>Solid Men Multicolor Track Pants</td>\n",
       "      <td>https://www.flipkart.com/yorker-solid-men-mult...</td>\n",
       "    </tr>\n",
       "    <tr>\n",
       "      <th>1</th>\n",
       "      <td>893e6980-f2a0-531f-b056-34dd63fe912c</td>\n",
       "      <td>1,499</td>\n",
       "      <td>3.9</td>\n",
       "      <td>York</td>\n",
       "      <td>Clothing and Accessories</td>\n",
       "      <td>2021-02-10 20:11:52</td>\n",
       "      <td>Yorker trackpants made from 100% rich combed c...</td>\n",
       "      <td>66% off</td>\n",
       "      <td>[https://rukminim1.flixcart.com/image/128/128/...</td>\n",
       "      <td>False</td>\n",
       "      <td>TKPFCZ9EJZV2UVRZ</td>\n",
       "      <td>[{'Style Code': '1005BLUE'}, {'Closure': 'Draw...</td>\n",
       "      <td>Shyam Enterprises</td>\n",
       "      <td>499</td>\n",
       "      <td>Bottomwear</td>\n",
       "      <td>Solid Men Blue Track Pants</td>\n",
       "      <td>https://www.flipkart.com/yorker-solid-men-blue...</td>\n",
       "    </tr>\n",
       "    <tr>\n",
       "      <th>2</th>\n",
       "      <td>eb4c8eab-8206-59d0-bcd1-a724d96bf74f</td>\n",
       "      <td>2,999</td>\n",
       "      <td>3.9</td>\n",
       "      <td>York</td>\n",
       "      <td>Clothing and Accessories</td>\n",
       "      <td>2021-02-10 20:11:52</td>\n",
       "      <td>Yorker trackpants made from 100% rich combed c...</td>\n",
       "      <td>68% off</td>\n",
       "      <td>[https://rukminim1.flixcart.com/image/128/128/...</td>\n",
       "      <td>False</td>\n",
       "      <td>TKPFCZ9EHFCY5Z4Y</td>\n",
       "      <td>[{'Style Code': '1005COMBO4'}, {'Closure': 'El...</td>\n",
       "      <td>Shyam Enterprises</td>\n",
       "      <td>931</td>\n",
       "      <td>Bottomwear</td>\n",
       "      <td>Solid Men Multicolor Track Pants</td>\n",
       "      <td>https://www.flipkart.com/yorker-solid-men-mult...</td>\n",
       "    </tr>\n",
       "    <tr>\n",
       "      <th>3</th>\n",
       "      <td>3f3f97bb-5faf-57df-a9ff-1af24e2b1045</td>\n",
       "      <td>2,999</td>\n",
       "      <td>3.9</td>\n",
       "      <td>York</td>\n",
       "      <td>Clothing and Accessories</td>\n",
       "      <td>2021-02-10 20:11:53</td>\n",
       "      <td>Yorker trackpants made from 100% rich combed c...</td>\n",
       "      <td>69% off</td>\n",
       "      <td>[https://rukminim1.flixcart.com/image/128/128/...</td>\n",
       "      <td>False</td>\n",
       "      <td>TKPFCZ9ESZZ7YWEF</td>\n",
       "      <td>[{'Style Code': '1005COMBO3'}, {'Closure': 'El...</td>\n",
       "      <td>Shyam Enterprises</td>\n",
       "      <td>911</td>\n",
       "      <td>Bottomwear</td>\n",
       "      <td>Solid Men Multicolor Track Pants</td>\n",
       "      <td>https://www.flipkart.com/yorker-solid-men-mult...</td>\n",
       "    </tr>\n",
       "    <tr>\n",
       "      <th>4</th>\n",
       "      <td>750caa3d-6264-53ca-8ce1-94118a1d8951</td>\n",
       "      <td>2,999</td>\n",
       "      <td>3.9</td>\n",
       "      <td>York</td>\n",
       "      <td>Clothing and Accessories</td>\n",
       "      <td>2021-02-10 20:11:53</td>\n",
       "      <td>Yorker trackpants made from 100% rich combed c...</td>\n",
       "      <td>68% off</td>\n",
       "      <td>[https://rukminim1.flixcart.com/image/128/128/...</td>\n",
       "      <td>False</td>\n",
       "      <td>TKPFCZ9EVXKBSUD7</td>\n",
       "      <td>[{'Style Code': '1005COMBO1'}, {'Closure': 'Dr...</td>\n",
       "      <td>Shyam Enterprises</td>\n",
       "      <td>943</td>\n",
       "      <td>Bottomwear</td>\n",
       "      <td>Solid Men Brown, Grey Track Pants</td>\n",
       "      <td>https://www.flipkart.com/yorker-solid-men-brow...</td>\n",
       "    </tr>\n",
       "  </tbody>\n",
       "</table>\n",
       "</div>"
      ],
      "text/plain": [
       "                                    _id actual_price average_rating brand  \\\n",
       "0  fa8e22d6-c0b6-5229-bb9e-ad52eda39a0a        2,999            3.9  York   \n",
       "1  893e6980-f2a0-531f-b056-34dd63fe912c        1,499            3.9  York   \n",
       "2  eb4c8eab-8206-59d0-bcd1-a724d96bf74f        2,999            3.9  York   \n",
       "3  3f3f97bb-5faf-57df-a9ff-1af24e2b1045        2,999            3.9  York   \n",
       "4  750caa3d-6264-53ca-8ce1-94118a1d8951        2,999            3.9  York   \n",
       "\n",
       "                   category          crawled_at  \\\n",
       "0  Clothing and Accessories 2021-02-10 20:11:51   \n",
       "1  Clothing and Accessories 2021-02-10 20:11:52   \n",
       "2  Clothing and Accessories 2021-02-10 20:11:52   \n",
       "3  Clothing and Accessories 2021-02-10 20:11:53   \n",
       "4  Clothing and Accessories 2021-02-10 20:11:53   \n",
       "\n",
       "                                         description discount  \\\n",
       "0  Yorker trackpants made from 100% rich combed c...  69% off   \n",
       "1  Yorker trackpants made from 100% rich combed c...  66% off   \n",
       "2  Yorker trackpants made from 100% rich combed c...  68% off   \n",
       "3  Yorker trackpants made from 100% rich combed c...  69% off   \n",
       "4  Yorker trackpants made from 100% rich combed c...  68% off   \n",
       "\n",
       "                                              images  out_of_stock  \\\n",
       "0  [https://rukminim1.flixcart.com/image/128/128/...         False   \n",
       "1  [https://rukminim1.flixcart.com/image/128/128/...         False   \n",
       "2  [https://rukminim1.flixcart.com/image/128/128/...         False   \n",
       "3  [https://rukminim1.flixcart.com/image/128/128/...         False   \n",
       "4  [https://rukminim1.flixcart.com/image/128/128/...         False   \n",
       "\n",
       "                pid                                    product_details  \\\n",
       "0  TKPFCZ9EA7H5FYZH  [{'Style Code': '1005COMBO2'}, {'Closure': 'El...   \n",
       "1  TKPFCZ9EJZV2UVRZ  [{'Style Code': '1005BLUE'}, {'Closure': 'Draw...   \n",
       "2  TKPFCZ9EHFCY5Z4Y  [{'Style Code': '1005COMBO4'}, {'Closure': 'El...   \n",
       "3  TKPFCZ9ESZZ7YWEF  [{'Style Code': '1005COMBO3'}, {'Closure': 'El...   \n",
       "4  TKPFCZ9EVXKBSUD7  [{'Style Code': '1005COMBO1'}, {'Closure': 'Dr...   \n",
       "\n",
       "              seller selling_price sub_category  \\\n",
       "0  Shyam Enterprises           921   Bottomwear   \n",
       "1  Shyam Enterprises           499   Bottomwear   \n",
       "2  Shyam Enterprises           931   Bottomwear   \n",
       "3  Shyam Enterprises           911   Bottomwear   \n",
       "4  Shyam Enterprises           943   Bottomwear   \n",
       "\n",
       "                               title  \\\n",
       "0   Solid Men Multicolor Track Pants   \n",
       "1         Solid Men Blue Track Pants   \n",
       "2   Solid Men Multicolor Track Pants   \n",
       "3   Solid Men Multicolor Track Pants   \n",
       "4  Solid Men Brown, Grey Track Pants   \n",
       "\n",
       "                                                 url  \n",
       "0  https://www.flipkart.com/yorker-solid-men-mult...  \n",
       "1  https://www.flipkart.com/yorker-solid-men-blue...  \n",
       "2  https://www.flipkart.com/yorker-solid-men-mult...  \n",
       "3  https://www.flipkart.com/yorker-solid-men-mult...  \n",
       "4  https://www.flipkart.com/yorker-solid-men-brow...  "
      ]
     },
     "execution_count": 3,
     "metadata": {},
     "output_type": "execute_result"
    }
   ],
   "source": [
    "df.head(5)"
   ]
  },
  {
   "cell_type": "code",
   "execution_count": 4,
   "id": "3997d6e0",
   "metadata": {},
   "outputs": [],
   "source": [
    "df = df.astype({'actual_price':'string','selling_price':'string','average_rating':'string', 'discount':'string'})\n",
    "df['actual_price'] = df['actual_price'].str.replace(',', '')\n",
    "df['selling_price'] = df['selling_price'].str.replace(',', '')\n",
    "df['discount'] = df['discount'].str.replace('% off', '')\n",
    "\n",
    "df['actual_price'] = pd.to_numeric(df['actual_price'], errors='coerce')\n",
    "df['selling_price'] = pd.to_numeric(df['selling_price'], errors='coerce')\n",
    "df['average_rating'] = pd.to_numeric(df['average_rating'], errors='coerce')\n",
    "df['discount'] = pd.to_numeric(df['discount'], errors='coerce')"
   ]
  },
  {
   "cell_type": "markdown",
   "id": "ef1c5a83",
   "metadata": {},
   "source": [
    "### Coalation of similar subcategories in the data:"
   ]
  },
  {
   "cell_type": "code",
   "execution_count": 5,
   "id": "84edea06",
   "metadata": {},
   "outputs": [],
   "source": [
    "df['average_rating'] = df['average_rating'].replace(np.nan, 0)\n",
    "df['discount'] = df['discount'].replace(np.nan, 0)\n",
    "\n",
    "df['sub_category'].replace(to_replace = ['Clothing Accessories', 'Crocks Club Clothing and Accessories',\n",
    "'Inspire Clothing and Accessories', 'INSPIRE Clothing and Accessories', 'Roy Clothing and Accessories', 'Uber Urban Clothing and Accessories'],\n",
    " value = 'Clothing and Accessories',\n",
    " inplace = True)\n",
    "\n",
    "df['sub_category'].replace(to_replace = ['Kurtas, Ethnic Sets and Bottoms'],\n",
    " value = 'Ethnic Wear',\n",
    " inplace = True)\n",
    "\n",
    "df['sub_category'].replace(to_replace = ['Blazers, Waistcoats and Suits'],\n",
    " value = 'Formal Wear',\n",
    " inplace = True)\n",
    "\n",
    "df['sub_category'].replace(to_replace = ['Sleepwear', 'Tracksuits'],\n",
    " value = 'Sleep Wear',\n",
    " inplace = True)\n",
    "\n",
    "df['sub_category'].replace(to_replace = [\"Men's Footwear\"],\n",
    " value = 'Footwear',\n",
    " inplace = True)\n",
    "\n",
    "df['sub_category'].replace(to_replace = ['SUNSHOPPING Bags, Wallets & Belts', 'Sunshopping Bags, Wallets & Belts', 'Winsome Deal Bags, Wallets & Belts', \n",
    "                                        'YOFAMA Bags, Wallets & Belts', 'Brand Trunk Bags, Wallets & Belts', 'mentiezi Bags, Wallets & Belts'],\n",
    " value = 'Bags, Wallets & Belts',\n",
    " inplace = True)"
   ]
  },
  {
   "cell_type": "markdown",
   "id": "d1f6d664",
   "metadata": {},
   "source": [
    "### Exploring values of Features at a granular / unique level: "
   ]
  },
  {
   "cell_type": "code",
   "execution_count": 6,
   "id": "13ee95dd",
   "metadata": {},
   "outputs": [
    {
     "data": {
      "text/plain": [
       "array([69., 66., 68., 74., 63., 67., 64., 76., 49., 61., 48., 70., 71.,\n",
       "       29., 79., 73., 80., 81., 72., 77., 82., 84., 54., 83., 78., 22.,\n",
       "       47., 35., 56., 75., 62., 60., 51., 44., 33., 50., 25., 28., 45.,\n",
       "       53., 40., 52., 30., 57., 42., 65., 59., 55., 58., 46., 41., 34.,\n",
       "       43., 38., 39., 86., 87., 12., 37.,  5., 31., 24., 27., 32.,  4.,\n",
       "        0., 23., 20.,  9., 36., 21.,  1., 10., 17.,  8.,  6.,  2., 15.,\n",
       "        3., 11., 16.,  7., 18., 14., 26., 13., 19., 85.])"
      ]
     },
     "execution_count": 6,
     "metadata": {},
     "output_type": "execute_result"
    }
   ],
   "source": [
    "df['discount'].unique()"
   ]
  },
  {
   "cell_type": "code",
   "execution_count": 7,
   "id": "622e5575",
   "metadata": {},
   "outputs": [
    {
     "data": {
      "text/plain": [
       "array([3.9, 3.8, 3.7, 3.3, 4.5, 3.5, 4.2, 4.3, 2.7, 4.7, 0. , 4. , 4.4,\n",
       "       2. , 2.6, 3. , 2.9, 2.2, 4.8, 3.2, 3.6, 4.1, 2.8, 3.4, 4.9, 3.1,\n",
       "       5. , 2.4, 2.3, 2.1, 1.9, 1. , 2.5, 4.6, 1.7, 1.8, 1.5, 1.6, 1.3])"
      ]
     },
     "execution_count": 7,
     "metadata": {},
     "output_type": "execute_result"
    }
   ],
   "source": [
    "df['average_rating'].unique()"
   ]
  },
  {
   "cell_type": "markdown",
   "id": "308d4662",
   "metadata": {},
   "source": [
    "### Creating a new categorical variable for rating groups:"
   ]
  },
  {
   "cell_type": "code",
   "execution_count": 8,
   "id": "6b1828f2",
   "metadata": {},
   "outputs": [],
   "source": [
    "rating_category = pd.cut(df.average_rating,bins=[0,1.0,2.0,3.0,4.0,5.0],labels=['1-Star','2-Star','3-Star','4-Star','5-Star'])\n",
    "df.insert(6,\"Rating_Group\",rating_category)"
   ]
  },
  {
   "cell_type": "code",
   "execution_count": 9,
   "id": "29c8981a",
   "metadata": {},
   "outputs": [
    {
     "data": {
      "text/html": [
       "<div>\n",
       "<style scoped>\n",
       "    .dataframe tbody tr th:only-of-type {\n",
       "        vertical-align: middle;\n",
       "    }\n",
       "\n",
       "    .dataframe tbody tr th {\n",
       "        vertical-align: top;\n",
       "    }\n",
       "\n",
       "    .dataframe thead th {\n",
       "        text-align: right;\n",
       "    }\n",
       "</style>\n",
       "<table border=\"1\" class=\"dataframe\">\n",
       "  <thead>\n",
       "    <tr style=\"text-align: right;\">\n",
       "      <th></th>\n",
       "      <th>_id</th>\n",
       "      <th>actual_price</th>\n",
       "      <th>average_rating</th>\n",
       "      <th>brand</th>\n",
       "      <th>category</th>\n",
       "      <th>crawled_at</th>\n",
       "      <th>Rating_Group</th>\n",
       "      <th>description</th>\n",
       "      <th>discount</th>\n",
       "      <th>images</th>\n",
       "      <th>out_of_stock</th>\n",
       "      <th>pid</th>\n",
       "      <th>product_details</th>\n",
       "      <th>seller</th>\n",
       "      <th>selling_price</th>\n",
       "      <th>sub_category</th>\n",
       "      <th>title</th>\n",
       "      <th>url</th>\n",
       "    </tr>\n",
       "  </thead>\n",
       "  <tbody>\n",
       "    <tr>\n",
       "      <th>0</th>\n",
       "      <td>fa8e22d6-c0b6-5229-bb9e-ad52eda39a0a</td>\n",
       "      <td>2999.0</td>\n",
       "      <td>3.9</td>\n",
       "      <td>York</td>\n",
       "      <td>Clothing and Accessories</td>\n",
       "      <td>2021-02-10 20:11:51</td>\n",
       "      <td>4-Star</td>\n",
       "      <td>Yorker trackpants made from 100% rich combed c...</td>\n",
       "      <td>69.0</td>\n",
       "      <td>[https://rukminim1.flixcart.com/image/128/128/...</td>\n",
       "      <td>False</td>\n",
       "      <td>TKPFCZ9EA7H5FYZH</td>\n",
       "      <td>[{'Style Code': '1005COMBO2'}, {'Closure': 'El...</td>\n",
       "      <td>Shyam Enterprises</td>\n",
       "      <td>921.0</td>\n",
       "      <td>Bottomwear</td>\n",
       "      <td>Solid Men Multicolor Track Pants</td>\n",
       "      <td>https://www.flipkart.com/yorker-solid-men-mult...</td>\n",
       "    </tr>\n",
       "    <tr>\n",
       "      <th>1</th>\n",
       "      <td>893e6980-f2a0-531f-b056-34dd63fe912c</td>\n",
       "      <td>1499.0</td>\n",
       "      <td>3.9</td>\n",
       "      <td>York</td>\n",
       "      <td>Clothing and Accessories</td>\n",
       "      <td>2021-02-10 20:11:52</td>\n",
       "      <td>4-Star</td>\n",
       "      <td>Yorker trackpants made from 100% rich combed c...</td>\n",
       "      <td>66.0</td>\n",
       "      <td>[https://rukminim1.flixcart.com/image/128/128/...</td>\n",
       "      <td>False</td>\n",
       "      <td>TKPFCZ9EJZV2UVRZ</td>\n",
       "      <td>[{'Style Code': '1005BLUE'}, {'Closure': 'Draw...</td>\n",
       "      <td>Shyam Enterprises</td>\n",
       "      <td>499.0</td>\n",
       "      <td>Bottomwear</td>\n",
       "      <td>Solid Men Blue Track Pants</td>\n",
       "      <td>https://www.flipkart.com/yorker-solid-men-blue...</td>\n",
       "    </tr>\n",
       "    <tr>\n",
       "      <th>2</th>\n",
       "      <td>eb4c8eab-8206-59d0-bcd1-a724d96bf74f</td>\n",
       "      <td>2999.0</td>\n",
       "      <td>3.9</td>\n",
       "      <td>York</td>\n",
       "      <td>Clothing and Accessories</td>\n",
       "      <td>2021-02-10 20:11:52</td>\n",
       "      <td>4-Star</td>\n",
       "      <td>Yorker trackpants made from 100% rich combed c...</td>\n",
       "      <td>68.0</td>\n",
       "      <td>[https://rukminim1.flixcart.com/image/128/128/...</td>\n",
       "      <td>False</td>\n",
       "      <td>TKPFCZ9EHFCY5Z4Y</td>\n",
       "      <td>[{'Style Code': '1005COMBO4'}, {'Closure': 'El...</td>\n",
       "      <td>Shyam Enterprises</td>\n",
       "      <td>931.0</td>\n",
       "      <td>Bottomwear</td>\n",
       "      <td>Solid Men Multicolor Track Pants</td>\n",
       "      <td>https://www.flipkart.com/yorker-solid-men-mult...</td>\n",
       "    </tr>\n",
       "    <tr>\n",
       "      <th>3</th>\n",
       "      <td>3f3f97bb-5faf-57df-a9ff-1af24e2b1045</td>\n",
       "      <td>2999.0</td>\n",
       "      <td>3.9</td>\n",
       "      <td>York</td>\n",
       "      <td>Clothing and Accessories</td>\n",
       "      <td>2021-02-10 20:11:53</td>\n",
       "      <td>4-Star</td>\n",
       "      <td>Yorker trackpants made from 100% rich combed c...</td>\n",
       "      <td>69.0</td>\n",
       "      <td>[https://rukminim1.flixcart.com/image/128/128/...</td>\n",
       "      <td>False</td>\n",
       "      <td>TKPFCZ9ESZZ7YWEF</td>\n",
       "      <td>[{'Style Code': '1005COMBO3'}, {'Closure': 'El...</td>\n",
       "      <td>Shyam Enterprises</td>\n",
       "      <td>911.0</td>\n",
       "      <td>Bottomwear</td>\n",
       "      <td>Solid Men Multicolor Track Pants</td>\n",
       "      <td>https://www.flipkart.com/yorker-solid-men-mult...</td>\n",
       "    </tr>\n",
       "    <tr>\n",
       "      <th>4</th>\n",
       "      <td>750caa3d-6264-53ca-8ce1-94118a1d8951</td>\n",
       "      <td>2999.0</td>\n",
       "      <td>3.9</td>\n",
       "      <td>York</td>\n",
       "      <td>Clothing and Accessories</td>\n",
       "      <td>2021-02-10 20:11:53</td>\n",
       "      <td>4-Star</td>\n",
       "      <td>Yorker trackpants made from 100% rich combed c...</td>\n",
       "      <td>68.0</td>\n",
       "      <td>[https://rukminim1.flixcart.com/image/128/128/...</td>\n",
       "      <td>False</td>\n",
       "      <td>TKPFCZ9EVXKBSUD7</td>\n",
       "      <td>[{'Style Code': '1005COMBO1'}, {'Closure': 'Dr...</td>\n",
       "      <td>Shyam Enterprises</td>\n",
       "      <td>943.0</td>\n",
       "      <td>Bottomwear</td>\n",
       "      <td>Solid Men Brown, Grey Track Pants</td>\n",
       "      <td>https://www.flipkart.com/yorker-solid-men-brow...</td>\n",
       "    </tr>\n",
       "  </tbody>\n",
       "</table>\n",
       "</div>"
      ],
      "text/plain": [
       "                                    _id  actual_price  average_rating brand  \\\n",
       "0  fa8e22d6-c0b6-5229-bb9e-ad52eda39a0a        2999.0             3.9  York   \n",
       "1  893e6980-f2a0-531f-b056-34dd63fe912c        1499.0             3.9  York   \n",
       "2  eb4c8eab-8206-59d0-bcd1-a724d96bf74f        2999.0             3.9  York   \n",
       "3  3f3f97bb-5faf-57df-a9ff-1af24e2b1045        2999.0             3.9  York   \n",
       "4  750caa3d-6264-53ca-8ce1-94118a1d8951        2999.0             3.9  York   \n",
       "\n",
       "                   category          crawled_at Rating_Group  \\\n",
       "0  Clothing and Accessories 2021-02-10 20:11:51       4-Star   \n",
       "1  Clothing and Accessories 2021-02-10 20:11:52       4-Star   \n",
       "2  Clothing and Accessories 2021-02-10 20:11:52       4-Star   \n",
       "3  Clothing and Accessories 2021-02-10 20:11:53       4-Star   \n",
       "4  Clothing and Accessories 2021-02-10 20:11:53       4-Star   \n",
       "\n",
       "                                         description  discount  \\\n",
       "0  Yorker trackpants made from 100% rich combed c...      69.0   \n",
       "1  Yorker trackpants made from 100% rich combed c...      66.0   \n",
       "2  Yorker trackpants made from 100% rich combed c...      68.0   \n",
       "3  Yorker trackpants made from 100% rich combed c...      69.0   \n",
       "4  Yorker trackpants made from 100% rich combed c...      68.0   \n",
       "\n",
       "                                              images  out_of_stock  \\\n",
       "0  [https://rukminim1.flixcart.com/image/128/128/...         False   \n",
       "1  [https://rukminim1.flixcart.com/image/128/128/...         False   \n",
       "2  [https://rukminim1.flixcart.com/image/128/128/...         False   \n",
       "3  [https://rukminim1.flixcart.com/image/128/128/...         False   \n",
       "4  [https://rukminim1.flixcart.com/image/128/128/...         False   \n",
       "\n",
       "                pid                                    product_details  \\\n",
       "0  TKPFCZ9EA7H5FYZH  [{'Style Code': '1005COMBO2'}, {'Closure': 'El...   \n",
       "1  TKPFCZ9EJZV2UVRZ  [{'Style Code': '1005BLUE'}, {'Closure': 'Draw...   \n",
       "2  TKPFCZ9EHFCY5Z4Y  [{'Style Code': '1005COMBO4'}, {'Closure': 'El...   \n",
       "3  TKPFCZ9ESZZ7YWEF  [{'Style Code': '1005COMBO3'}, {'Closure': 'El...   \n",
       "4  TKPFCZ9EVXKBSUD7  [{'Style Code': '1005COMBO1'}, {'Closure': 'Dr...   \n",
       "\n",
       "              seller  selling_price sub_category  \\\n",
       "0  Shyam Enterprises          921.0   Bottomwear   \n",
       "1  Shyam Enterprises          499.0   Bottomwear   \n",
       "2  Shyam Enterprises          931.0   Bottomwear   \n",
       "3  Shyam Enterprises          911.0   Bottomwear   \n",
       "4  Shyam Enterprises          943.0   Bottomwear   \n",
       "\n",
       "                               title  \\\n",
       "0   Solid Men Multicolor Track Pants   \n",
       "1         Solid Men Blue Track Pants   \n",
       "2   Solid Men Multicolor Track Pants   \n",
       "3   Solid Men Multicolor Track Pants   \n",
       "4  Solid Men Brown, Grey Track Pants   \n",
       "\n",
       "                                                 url  \n",
       "0  https://www.flipkart.com/yorker-solid-men-mult...  \n",
       "1  https://www.flipkart.com/yorker-solid-men-blue...  \n",
       "2  https://www.flipkart.com/yorker-solid-men-mult...  \n",
       "3  https://www.flipkart.com/yorker-solid-men-mult...  \n",
       "4  https://www.flipkart.com/yorker-solid-men-brow...  "
      ]
     },
     "execution_count": 9,
     "metadata": {},
     "output_type": "execute_result"
    }
   ],
   "source": [
    "df.head(5)"
   ]
  },
  {
   "cell_type": "markdown",
   "id": "c7b77206",
   "metadata": {},
   "source": [
    "### Creating the static visualization of our first view of the Dashboard:"
   ]
  },
  {
   "cell_type": "code",
   "execution_count": 10,
   "id": "f8552248",
   "metadata": {},
   "outputs": [
    {
     "data": {
      "text/plain": [
       "<matplotlib.axes._subplots.AxesSubplot at 0x1813bf58408>"
      ]
     },
     "execution_count": 10,
     "metadata": {},
     "output_type": "execute_result"
    },
    {
     "data": {
      "image/png": "[encoded data removed]",
      "text/plain": [
       "<Figure size 1080x720 with 1 Axes>"
      ]
     },
     "metadata": {
      "needs_background": "light"
     },
     "output_type": "display_data"
    }
   ],
   "source": [
    "stackedBar_data = df[['sub_category', 'Rating_Group']].value_counts().reset_index().rename(columns = {0: 'value'})\n",
    "stackedBar_data = stackedBar_data.loc[stackedBar_data['Rating_Group'] != 'Unknown']\n",
    "stackedBar_data.pivot(index='sub_category', columns='Rating_Group', values='value').plot(kind='bar', stacked = True, figsize=(15,10), title = 'Category vs Ratings', log=True)"
   ]
  },
  {
   "cell_type": "markdown",
   "id": "ffe1ed47",
   "metadata": {},
   "source": [
    "### Creating bar chart for Average Selling Price per Brand:"
   ]
  },
  {
   "cell_type": "code",
   "execution_count": 11,
   "id": "33e1b33f",
   "metadata": {},
   "outputs": [
    {
     "data": {
      "text/plain": [
       "Text(0.5, 1.0, 'Average Selling Price of products per Brand')"
      ]
     },
     "execution_count": 11,
     "metadata": {},
     "output_type": "execute_result"
    },
    {
     "data": {
      "image/png": "[encoded data removed]",
      "text/plain": [
       "<Figure size 1440x1080 with 1 Axes>"
      ]
     },
     "metadata": {
      "needs_background": "light"
     },
     "output_type": "display_data"
    }
   ],
   "source": [
    "fig, ax = plt.subplots(figsize=(20,15)) \n",
    "\n",
    "bar1_data = df[df['sub_category']== 'Formal Wear'].groupby('brand')['selling_price'].mean()\n",
    "ax.bar(bar1_data.index, bar1_data.values)\n",
    "ax.set_xlabel('Brand', fontsize = 15)\n",
    "ax.set_ylabel('Average Selling Price', fontsize = 15)\n",
    "ax.set_title('Average Selling Price of products per Brand', fontsize = 30)\n"
   ]
  },
  {
   "cell_type": "markdown",
   "id": "4ab98a29",
   "metadata": {},
   "source": [
    "### Creating the Interactivity for the dashboard!"
   ]
  },
  {
   "cell_type": "code",
   "execution_count": 12,
   "id": "96feb5f9",
   "metadata": {},
   "outputs": [],
   "source": [
    "# Code for stacked bar chart\n",
    "\n",
    "figa = plot.figure(title = 'Category vs Ratings')\n",
    "\n",
    "df1 = df.groupby([\"sub_category\", \"Rating_Group\"])._id.count().unstack('Rating_Group')\n",
    "\n",
    "sc_x = bqplot.OrdinalScale()\n",
    "sc_y = bqplot.LinearScale()\n",
    "scales = {\"x\": sc_x, \"y\": sc_y}\n",
    "\n",
    "\n",
    "categories = plot.bar(x = df1.index, \n",
    "                 y= [df1['1-Star'],df1['2-Star'],df1['3-Star'],df1['4-Star'],df1['5-Star']],\n",
    "                 scales= scales,\n",
    "                 labels = ['1-Star','2-Star','3-Star','4-Star','5-Star'],\n",
    "                 interactions = {'click': 'select', 'hover': 'tooltip'},\n",
    "                 anchor_style = {'fill': 'white'},\n",
    "                 selected_style={'stroke': 'white', 'stroke-width': 3},\n",
    "                 unselected_style={'opacity':0.5},\n",
    "                 display_legend = True)\n",
    "\n",
    "categories.type = \"stacked\"\n",
    "categories.colors = bqplot.CATEGORY10\n",
    "\n",
    "\n",
    "plot.xlabel(\"Category\")\n",
    "plot.ylabel(\"Ratings\")\n",
    "figa.axes[0].tick_rotate = -30\n",
    "figa.axes[0].tick_style = {'text-anchor': 'end', 'offset': '40px', 'font-size': 10}\n",
    "figa.axes[0].label_offset = '55px'\n",
    "figa.legend_location = 'top-left'\n",
    "figa.legend_text = {'font-size': 12}\n",
    "figa.legend_style = {'width': 'auto'}\n",
    "\n",
    "#####################################################################\n",
    "y_range = widgets.IntRangeSlider(value=[1,15000],\n",
    "                        min=1,\n",
    "                        max=15000,\n",
    "                        step=(15000 - 1) / 100,\n",
    "                        description=\"Y Axis\",\n",
    "                        disabled=False,\n",
    "                        continuous_update=False,\n",
    "                        orientation='horizontal',\n",
    "                        readout=True)\n",
    "\n",
    "def updateYAxis(change1):\n",
    "    #Update Y-axis min/max value here\n",
    "    if change1['type'] == 'change' and change1['name'] == 'value':\n",
    "        sc_y.min = change1['new'][0]\n",
    "        sc_y.max = change1['new'][1]\n",
    "    \n",
    "\n",
    "y_range.observe(updateYAxis)\n",
    "figa = widgets.VBox([figa, y_range])\n",
    "\n",
    "#####################################################################\n",
    "# referenced the above version of code for y slider from here:\n",
    "# https://github.com/bqplot/bqplot/issues/712\n",
    "\n",
    "\n",
    "\n",
    "# Code for the vertical bar chart for average selling price\n",
    "\n",
    "figb = plot.figure(title = \"Average Selling Price of products per Brand\")\n",
    "\n",
    "figb.layout.height = \"400px\"\n",
    "figb.layout.width = \"600px\"\n",
    "\n",
    "subset = df.loc[df['category'] == 'Footwear']\n",
    "\n",
    "price_mean = subset.groupby(\"brand\").selling_price.mean()\n",
    "\n",
    "\n",
    "price_plot = plot.bar(x = price_mean.index.tolist(), \n",
    "                       y= price_mean.values.tolist(), \n",
    "                       orientation = 'vertical',\n",
    "                      tick_style ={'font-size': 100})\n",
    "\n",
    "#price_plot.colors = [\"#06C2AC\"]\n",
    "price_plot.colors = \"palevioletred\"\n",
    "plot.xlabel(\"Brand\")\n",
    "plot.ylabel(\"Average Selling Price\")\n",
    "\n",
    "figb.axes[0].tick_rotate = -60\n",
    "figb.axes[0].tick_style = {'text-anchor': 'end', 'offset': '40px', 'font-size': 10}\n",
    "figb.axes[0].label_offset = '40px'\n",
    "\n",
    "# Code for the vertical bar chart for average actual price\n",
    "\n",
    "figc = plot.figure(title = \"Average Actual Price of products per Brand\")\n",
    "\n",
    "figc.layout.height = \"500px\"\n",
    "figc.layout.width = \"700px\"\n",
    "\n",
    "subset1 = df.loc[df['category'] == 'Footwear']\n",
    "\n",
    "price_mean1 = subset.groupby(\"brand\").actual_price.mean()\n",
    "\n",
    "\n",
    "price_plot1 = plot.bar(x = price_mean1.index.tolist(), \n",
    "                       y= price_mean1.values.tolist(), \n",
    "                       orientation = 'vertical',\n",
    "                      tick_style ={'font-size': 100})\n",
    "\n",
    "price_plot1.colors = [\"#06C2AC\"]\n",
    "plot.xlabel(\"Brand\")\n",
    "plot.ylabel(\"Average Actual Price\")\n",
    "\n",
    "figc.axes[0].tick_rotate = -60\n",
    "figc.axes[0].tick_style = {'text-anchor': 'end', 'offset': '40px', 'font-size': 10}\n",
    "figc.axes[0].label_offset = '40px'"
   ]
  },
  {
   "cell_type": "markdown",
   "id": "982a51ed",
   "metadata": {},
   "source": [
    "### Creating output placeholders for tooltips:"
   ]
  },
  {
   "cell_type": "code",
   "execution_count": 13,
   "id": "51ecd4f4",
   "metadata": {},
   "outputs": [],
   "source": [
    "out = ipywidgets.Output()\n",
    "out1 = ipywidgets.Output(layout={'border': '1px solid black', \n",
    "                                 'margin': '0 0 0 0'})\n",
    "out2 = ipywidgets.Output(layout={'border': '1px solid black', \n",
    "                                 'margin': '0 0 0 0'})\n",
    "out3 = ipywidgets.Output(layout={'border': '1px solid black', \n",
    "                                 'margin': '0 0 0 0'})"
   ]
  },
  {
   "cell_type": "markdown",
   "id": "a92278e0",
   "metadata": {},
   "source": [
    "### Adding the code for interactivity in the visualizations:"
   ]
  },
  {
   "cell_type": "code",
   "execution_count": 14,
   "id": "47e66417",
   "metadata": {},
   "outputs": [],
   "source": [
    "# Code for tooltip for the stacked bar chart\n",
    "def on_hover_categories(_, event):\n",
    "    out1.clear_output()\n",
    "    with out1:\n",
    "        print(f\"Category: {event['data']['x']}\\n\"\\\n",
    "              f\"Rating Group: {df1.columns[event['data']['colorIndex']]}\\n\"\\\n",
    "              f\"Rating Count: {event['data']['y']}\\n\")\n",
    "    categories.tooltip = out1\n",
    "\n",
    "# Code for tooltip for the bar chart    \n",
    "def on_hover_selling_price_mean(_, event):\n",
    "    out2.clear_output()\n",
    "    with out2:\n",
    "        print(f\"Brand: {event['data']['x']}\\n\"\n",
    "              f\"Average Selling Price: {event['data']['y']}\\n\")\n",
    "    price_plot.tooltip = out2\n",
    "\n",
    "# Code for tooltip for the bar chart    \n",
    "def on_hover_actual_price_mean1(_, event):\n",
    "    out3.clear_output()\n",
    "    with out3:\n",
    "        print(f\"Brand: {event['data']['x']}\\n\"\n",
    "              f\"Average Actual Price: {event['data']['y']}\\n\")\n",
    "    price_plot1.tooltip = out3\n",
    "\n",
    "# Calback function to interact with bar plot\n",
    "def on_selected(self, change, df):\n",
    "    #print(change, self)\n",
    "    category_selected = None\n",
    "    if len(self.selected) == 0:\n",
    "            label.value = 'No data selected!!'\n",
    "            return\n",
    "    for mark in self.selected:\n",
    "        category_selected = self.x[mark]\n",
    "\n",
    "    subset = df.loc[df['sub_category'] == category_selected]\n",
    "\n",
    "    price_mean = subset.groupby(\"brand\").selling_price.mean()\n",
    "    \n",
    "    price_plot.x = price_mean.index.tolist()\n",
    "    price_plot.y = price_mean.values.tolist()\n",
    "    \n",
    "    subset1 = df.loc[df['sub_category'] == category_selected]\n",
    "\n",
    "    price_mean1 = subset.groupby(\"brand\").actual_price.mean()\n",
    "    \n",
    "    price_plot1.x = price_mean1.index.tolist()\n",
    "    price_plot1.y = price_mean1.values.tolist()\n",
    "\n",
    "categories.on_hover(on_hover_categories)\n",
    "categories.on_element_click(lambda _, x: on_selected(_, x, df))\n",
    "price_plot.on_hover(on_hover_selling_price_mean)\n",
    "price_plot1.on_hover(on_hover_actual_price_mean1)"
   ]
  },
  {
   "cell_type": "markdown",
   "id": "e4e01074",
   "metadata": {},
   "source": [
    "## The Dashboard"
   ]
  },
  {
   "cell_type": "markdown",
   "id": "8797c14e",
   "metadata": {},
   "source": [
    "### How to use it and what does it show?"
   ]
  },
  {
   "cell_type": "markdown",
   "id": "d3bc27d0",
   "metadata": {},
   "source": [
    "This visualization gives the user an idea of how all Products within each Subcategory fare in terms of Consumer Ratings. The Bar chart is a stacked visualization, wherein each color code depicts the distribution of the 5 Categories of Rating Groups. </br>\n",
    "\n",
    "- The height of each bar within the chart represents the total ratings received by the products listed under that Subcategory. However, each separate color-coded section within a single stacked bar denotes the division of star ratings. </br>\n",
    "\n",
    "- Upon hovering on any section of the visualization, the user can see the Category being highlighted with the hover, the Rating Group, and the count of ratings under that Rating Group. </br>\n",
    "\n",
    "- The user can also adjust the scale of the Y-axis to closely examine the Subcategories and their Rating Groups. A slider with this functionality is present just below the graph which enables the user to perform the scaling action on the dynamic visualization. </br>\n",
    "\n",
    "- While clicking on the individual bars, the visualization provides an interactive aspect of drilling down to a more granular level. The selection of any SubCategory in the stacked bar chart will deliver two more bar charts below the dashboard.  Each of these bar charts is a deeper view of the main dashboard graph. </br>\n",
    "\n",
    "- The first bar graph represents the view of how different brands are competing in the area of Selling Price for their individual products under the clicked Subcategory. This is done by a comparison of the average Selling Price calculated and plotted against the Brands under the SubCategory. </br>\n",
    "\n",
    "- Similarly, the second graph gives an idea of the Actual Price of products listed by their Brands under the clicked Subcategory. This is plotted based on how well the brands fare with the average Actual Price calculated for every brand under the Subcategory. </br>\n",
    "\n",
    "With a comparative view, the user can understand the difference in Brand competition in the market for any selected Subcategory that they select. It provides insights and patterns to understand the placement and pricing of products for improvement.\n"
   ]
  },
  {
   "cell_type": "markdown",
   "id": "344b9e2e",
   "metadata": {},
   "source": [
    "### Creating the dashboard by combining all three visualizations:"
   ]
  },
  {
   "cell_type": "code",
   "execution_count": 15,
   "id": "01fa3ebc",
   "metadata": {},
   "outputs": [
    {
     "data": {
      "application/vnd.jupyter.widget-view+json": {
       "model_id": "a011801a1ff445cd9bc4cd84a50e61fe",
       "version_major": 2,
       "version_minor": 0
      },
      "text/plain": [
       "VBox(children=(VBox(children=(Figure(axes=[Axis(label='Category', label_offset='55px', scale=OrdinalScale(), t…"
      ]
     },
     "metadata": {},
     "output_type": "display_data"
    },
    {
     "data": {
      "text/plain": [
       "ipywidgets.widgets.widget_box.VBox"
      ]
     },
     "execution_count": 15,
     "metadata": {},
     "output_type": "execute_result"
    }
   ],
   "source": [
    "figa.layout.min_width = '100%'\n",
    "figb.layout.min_width = '100%'\n",
    "figc.layout.min_width = '100%'\n",
    "my_dashboard = ipywidgets.VBox([figa, figb, figc])\n",
    "my_dashboard.layout.width = 'auto'\n",
    "# my_dashboard.layout.display = 'flex'\n",
    "display(my_dashboard)\n",
    "type(my_dashboard)"
   ]
  },
  {
   "cell_type": "markdown",
   "id": "827c8aef",
   "metadata": {},
   "source": [
    "### Creating a new categorical variable for dicount range:"
   ]
  },
  {
   "cell_type": "code",
   "execution_count": 16,
   "id": "e73a17b4",
   "metadata": {},
   "outputs": [],
   "source": [
    "discount_range = pd.cut(df.discount,bins=[0,10,20,30,40,50,60,70,80,90],labels=['Below 10%','10%-20%','20%-30%','30%-40%','40%-50%', '50%-60%', '60%-70%', '70%-80%', 'Above 80%'])\n",
    "df.insert(6,\"Discount Range\",discount_range)"
   ]
  },
  {
   "cell_type": "code",
   "execution_count": 17,
   "id": "2d499e4d",
   "metadata": {},
   "outputs": [
    {
     "data": {
      "text/html": [
       "<div>\n",
       "<style scoped>\n",
       "    .dataframe tbody tr th:only-of-type {\n",
       "        vertical-align: middle;\n",
       "    }\n",
       "\n",
       "    .dataframe tbody tr th {\n",
       "        vertical-align: top;\n",
       "    }\n",
       "\n",
       "    .dataframe thead th {\n",
       "        text-align: right;\n",
       "    }\n",
       "</style>\n",
       "<table border=\"1\" class=\"dataframe\">\n",
       "  <thead>\n",
       "    <tr style=\"text-align: right;\">\n",
       "      <th></th>\n",
       "      <th>_id</th>\n",
       "      <th>actual_price</th>\n",
       "      <th>average_rating</th>\n",
       "      <th>brand</th>\n",
       "      <th>category</th>\n",
       "      <th>crawled_at</th>\n",
       "      <th>Discount Range</th>\n",
       "      <th>Rating_Group</th>\n",
       "      <th>description</th>\n",
       "      <th>discount</th>\n",
       "      <th>images</th>\n",
       "      <th>out_of_stock</th>\n",
       "      <th>pid</th>\n",
       "      <th>product_details</th>\n",
       "      <th>seller</th>\n",
       "      <th>selling_price</th>\n",
       "      <th>sub_category</th>\n",
       "      <th>title</th>\n",
       "      <th>url</th>\n",
       "    </tr>\n",
       "  </thead>\n",
       "  <tbody>\n",
       "    <tr>\n",
       "      <th>0</th>\n",
       "      <td>fa8e22d6-c0b6-5229-bb9e-ad52eda39a0a</td>\n",
       "      <td>2999.0</td>\n",
       "      <td>3.9</td>\n",
       "      <td>York</td>\n",
       "      <td>Clothing and Accessories</td>\n",
       "      <td>2021-02-10 20:11:51</td>\n",
       "      <td>60%-70%</td>\n",
       "      <td>4-Star</td>\n",
       "      <td>Yorker trackpants made from 100% rich combed c...</td>\n",
       "      <td>69.0</td>\n",
       "      <td>[https://rukminim1.flixcart.com/image/128/128/...</td>\n",
       "      <td>False</td>\n",
       "      <td>TKPFCZ9EA7H5FYZH</td>\n",
       "      <td>[{'Style Code': '1005COMBO2'}, {'Closure': 'El...</td>\n",
       "      <td>Shyam Enterprises</td>\n",
       "      <td>921.0</td>\n",
       "      <td>Bottomwear</td>\n",
       "      <td>Solid Men Multicolor Track Pants</td>\n",
       "      <td>https://www.flipkart.com/yorker-solid-men-mult...</td>\n",
       "    </tr>\n",
       "    <tr>\n",
       "      <th>1</th>\n",
       "      <td>893e6980-f2a0-531f-b056-34dd63fe912c</td>\n",
       "      <td>1499.0</td>\n",
       "      <td>3.9</td>\n",
       "      <td>York</td>\n",
       "      <td>Clothing and Accessories</td>\n",
       "      <td>2021-02-10 20:11:52</td>\n",
       "      <td>60%-70%</td>\n",
       "      <td>4-Star</td>\n",
       "      <td>Yorker trackpants made from 100% rich combed c...</td>\n",
       "      <td>66.0</td>\n",
       "      <td>[https://rukminim1.flixcart.com/image/128/128/...</td>\n",
       "      <td>False</td>\n",
       "      <td>TKPFCZ9EJZV2UVRZ</td>\n",
       "      <td>[{'Style Code': '1005BLUE'}, {'Closure': 'Draw...</td>\n",
       "      <td>Shyam Enterprises</td>\n",
       "      <td>499.0</td>\n",
       "      <td>Bottomwear</td>\n",
       "      <td>Solid Men Blue Track Pants</td>\n",
       "      <td>https://www.flipkart.com/yorker-solid-men-blue...</td>\n",
       "    </tr>\n",
       "    <tr>\n",
       "      <th>2</th>\n",
       "      <td>eb4c8eab-8206-59d0-bcd1-a724d96bf74f</td>\n",
       "      <td>2999.0</td>\n",
       "      <td>3.9</td>\n",
       "      <td>York</td>\n",
       "      <td>Clothing and Accessories</td>\n",
       "      <td>2021-02-10 20:11:52</td>\n",
       "      <td>60%-70%</td>\n",
       "      <td>4-Star</td>\n",
       "      <td>Yorker trackpants made from 100% rich combed c...</td>\n",
       "      <td>68.0</td>\n",
       "      <td>[https://rukminim1.flixcart.com/image/128/128/...</td>\n",
       "      <td>False</td>\n",
       "      <td>TKPFCZ9EHFCY5Z4Y</td>\n",
       "      <td>[{'Style Code': '1005COMBO4'}, {'Closure': 'El...</td>\n",
       "      <td>Shyam Enterprises</td>\n",
       "      <td>931.0</td>\n",
       "      <td>Bottomwear</td>\n",
       "      <td>Solid Men Multicolor Track Pants</td>\n",
       "      <td>https://www.flipkart.com/yorker-solid-men-mult...</td>\n",
       "    </tr>\n",
       "    <tr>\n",
       "      <th>3</th>\n",
       "      <td>3f3f97bb-5faf-57df-a9ff-1af24e2b1045</td>\n",
       "      <td>2999.0</td>\n",
       "      <td>3.9</td>\n",
       "      <td>York</td>\n",
       "      <td>Clothing and Accessories</td>\n",
       "      <td>2021-02-10 20:11:53</td>\n",
       "      <td>60%-70%</td>\n",
       "      <td>4-Star</td>\n",
       "      <td>Yorker trackpants made from 100% rich combed c...</td>\n",
       "      <td>69.0</td>\n",
       "      <td>[https://rukminim1.flixcart.com/image/128/128/...</td>\n",
       "      <td>False</td>\n",
       "      <td>TKPFCZ9ESZZ7YWEF</td>\n",
       "      <td>[{'Style Code': '1005COMBO3'}, {'Closure': 'El...</td>\n",
       "      <td>Shyam Enterprises</td>\n",
       "      <td>911.0</td>\n",
       "      <td>Bottomwear</td>\n",
       "      <td>Solid Men Multicolor Track Pants</td>\n",
       "      <td>https://www.flipkart.com/yorker-solid-men-mult...</td>\n",
       "    </tr>\n",
       "    <tr>\n",
       "      <th>4</th>\n",
       "      <td>750caa3d-6264-53ca-8ce1-94118a1d8951</td>\n",
       "      <td>2999.0</td>\n",
       "      <td>3.9</td>\n",
       "      <td>York</td>\n",
       "      <td>Clothing and Accessories</td>\n",
       "      <td>2021-02-10 20:11:53</td>\n",
       "      <td>60%-70%</td>\n",
       "      <td>4-Star</td>\n",
       "      <td>Yorker trackpants made from 100% rich combed c...</td>\n",
       "      <td>68.0</td>\n",
       "      <td>[https://rukminim1.flixcart.com/image/128/128/...</td>\n",
       "      <td>False</td>\n",
       "      <td>TKPFCZ9EVXKBSUD7</td>\n",
       "      <td>[{'Style Code': '1005COMBO1'}, {'Closure': 'Dr...</td>\n",
       "      <td>Shyam Enterprises</td>\n",
       "      <td>943.0</td>\n",
       "      <td>Bottomwear</td>\n",
       "      <td>Solid Men Brown, Grey Track Pants</td>\n",
       "      <td>https://www.flipkart.com/yorker-solid-men-brow...</td>\n",
       "    </tr>\n",
       "  </tbody>\n",
       "</table>\n",
       "</div>"
      ],
      "text/plain": [
       "                                    _id  actual_price  average_rating brand  \\\n",
       "0  fa8e22d6-c0b6-5229-bb9e-ad52eda39a0a        2999.0             3.9  York   \n",
       "1  893e6980-f2a0-531f-b056-34dd63fe912c        1499.0             3.9  York   \n",
       "2  eb4c8eab-8206-59d0-bcd1-a724d96bf74f        2999.0             3.9  York   \n",
       "3  3f3f97bb-5faf-57df-a9ff-1af24e2b1045        2999.0             3.9  York   \n",
       "4  750caa3d-6264-53ca-8ce1-94118a1d8951        2999.0             3.9  York   \n",
       "\n",
       "                   category          crawled_at Discount Range Rating_Group  \\\n",
       "0  Clothing and Accessories 2021-02-10 20:11:51        60%-70%       4-Star   \n",
       "1  Clothing and Accessories 2021-02-10 20:11:52        60%-70%       4-Star   \n",
       "2  Clothing and Accessories 2021-02-10 20:11:52        60%-70%       4-Star   \n",
       "3  Clothing and Accessories 2021-02-10 20:11:53        60%-70%       4-Star   \n",
       "4  Clothing and Accessories 2021-02-10 20:11:53        60%-70%       4-Star   \n",
       "\n",
       "                                         description  discount  \\\n",
       "0  Yorker trackpants made from 100% rich combed c...      69.0   \n",
       "1  Yorker trackpants made from 100% rich combed c...      66.0   \n",
       "2  Yorker trackpants made from 100% rich combed c...      68.0   \n",
       "3  Yorker trackpants made from 100% rich combed c...      69.0   \n",
       "4  Yorker trackpants made from 100% rich combed c...      68.0   \n",
       "\n",
       "                                              images  out_of_stock  \\\n",
       "0  [https://rukminim1.flixcart.com/image/128/128/...         False   \n",
       "1  [https://rukminim1.flixcart.com/image/128/128/...         False   \n",
       "2  [https://rukminim1.flixcart.com/image/128/128/...         False   \n",
       "3  [https://rukminim1.flixcart.com/image/128/128/...         False   \n",
       "4  [https://rukminim1.flixcart.com/image/128/128/...         False   \n",
       "\n",
       "                pid                                    product_details  \\\n",
       "0  TKPFCZ9EA7H5FYZH  [{'Style Code': '1005COMBO2'}, {'Closure': 'El...   \n",
       "1  TKPFCZ9EJZV2UVRZ  [{'Style Code': '1005BLUE'}, {'Closure': 'Draw...   \n",
       "2  TKPFCZ9EHFCY5Z4Y  [{'Style Code': '1005COMBO4'}, {'Closure': 'El...   \n",
       "3  TKPFCZ9ESZZ7YWEF  [{'Style Code': '1005COMBO3'}, {'Closure': 'El...   \n",
       "4  TKPFCZ9EVXKBSUD7  [{'Style Code': '1005COMBO1'}, {'Closure': 'Dr...   \n",
       "\n",
       "              seller  selling_price sub_category  \\\n",
       "0  Shyam Enterprises          921.0   Bottomwear   \n",
       "1  Shyam Enterprises          499.0   Bottomwear   \n",
       "2  Shyam Enterprises          931.0   Bottomwear   \n",
       "3  Shyam Enterprises          911.0   Bottomwear   \n",
       "4  Shyam Enterprises          943.0   Bottomwear   \n",
       "\n",
       "                               title  \\\n",
       "0   Solid Men Multicolor Track Pants   \n",
       "1         Solid Men Blue Track Pants   \n",
       "2   Solid Men Multicolor Track Pants   \n",
       "3   Solid Men Multicolor Track Pants   \n",
       "4  Solid Men Brown, Grey Track Pants   \n",
       "\n",
       "                                                 url  \n",
       "0  https://www.flipkart.com/yorker-solid-men-mult...  \n",
       "1  https://www.flipkart.com/yorker-solid-men-blue...  \n",
       "2  https://www.flipkart.com/yorker-solid-men-mult...  \n",
       "3  https://www.flipkart.com/yorker-solid-men-mult...  \n",
       "4  https://www.flipkart.com/yorker-solid-men-brow...  "
      ]
     },
     "execution_count": 17,
     "metadata": {},
     "output_type": "execute_result"
    }
   ],
   "source": [
    "df.head()"
   ]
  },
  {
   "cell_type": "markdown",
   "id": "21d3f984",
   "metadata": {},
   "source": [
    "### Here, we had tried to create a line chart analysis, however, it did not quite work out:"
   ]
  },
  {
   "cell_type": "code",
   "execution_count": 18,
   "id": "f4ec9e1c",
   "metadata": {},
   "outputs": [],
   "source": [
    "# figd = plt.figure(constrained_layout=True, figsize=(20,15))\n",
    "# gs2 = figd.add_gridspec(1, 1)\n",
    "\n",
    "# ax3 = figd.add_subplot(gs2[0,0])\n",
    "# grouped_data1= df[df['Discount Range']== '10%-20%'].groupby('sub_category')._id.count()\n",
    "# ax3.plot(grouped_data1.index, grouped_data1.values, 'b', label='10%-20%')\n",
    "\n",
    "# grouped_data2= df[df['Discount Range']== '20%-30%'].groupby('sub_category')._id.count()\n",
    "# ax3.plot(grouped_data2.index, grouped_data2.values, 'r', label='20%-30%')\n",
    "\n",
    "# grouped_data3= df[df['Discount Range']== '30%-40%'].groupby('sub_category')._id.count()\n",
    "# ax3.plot(grouped_data3.index, grouped_data3.values, 'y', label='30%-40%')\n",
    "\n",
    "# ax3.legend()\n",
    "# plt.xticks(rotation=45, fontsize = 15) \n",
    "# plt.yticks(fontsize = 15) \n",
    "# ax3.set_xlabel('Sub Category', fontsize= 25)\n",
    "# ax3.set_ylabel('Number of products', fontsize= 25)\n",
    "# ax3.set_title('Number of products/Sub Category', fontsize=30)"
   ]
  },
  {
   "cell_type": "code",
   "execution_count": 19,
   "id": "81e763c5",
   "metadata": {},
   "outputs": [],
   "source": [
    "import seaborn as sns"
   ]
  },
  {
   "cell_type": "code",
   "execution_count": 20,
   "id": "29cb5c13",
   "metadata": {},
   "outputs": [],
   "source": [
    "# plt.figure(constrained_layout=True, figsize=(20,15))\n",
    "# sns.countplot(x=df['sub_category'],data=df, palette='rainbow',hue=df['Discount Range'])\n",
    "# plt.xticks(rotation=45, fontsize = 15) \n",
    "# plt.yticks(fontsize = 15) \n",
    "# plt.legend(loc='upper right')\n",
    "# plt.ylim(200, 4000)"
   ]
  },
  {
   "cell_type": "markdown",
   "id": "79efd947",
   "metadata": {},
   "source": [
    "## Interactive Collected Bar Chart:"
   ]
  },
  {
   "cell_type": "markdown",
   "id": "4efb5238",
   "metadata": {},
   "source": [
    "- The Chart below is a representation of Category or Subcategory with the percentage of their products placed in the different discount ranges. The user has the option of selecting the view of a Category distinction or a Subcategory distinction. The height of all the bars denotes the percentage of products listed under different discount ranges. A legend of color-coded discount ranges is provided within the Collective Bar Chart for easy understanding.\n",
    "- This Collected Bar Chart presents a range of percentages within each Category or Subcategory as selected by the user, to give an overall view of products sold with discounts. The graph can give an idea of understanding the most common categories or subcategories of products being sold with specific discount ranges. The user also has an option of changing the color code of the bars, by clicking on the next dropdown and selecting a different color scheme for the Bar Chart.\n"
   ]
  },
  {
   "cell_type": "code",
   "execution_count": 21,
   "id": "b9b915b2",
   "metadata": {},
   "outputs": [
    {
     "data": {
      "application/vnd.jupyter.widget-view+json": {
       "model_id": "b19667c148ae47dd8f631c668674f66f",
       "version_major": 2,
       "version_minor": 0
      },
      "text/plain": [
       "interactive(children=(Dropdown(description='selection', options=('Category', 'Sub Category'), value='Category'…"
      ]
     },
     "metadata": {},
     "output_type": "display_data"
    }
   ],
   "source": [
    "plot_options = ['Category', 'Sub Category']\n",
    "\n",
    "@ipywidgets.interact(selection = plot_options, color = ['deep', 'muted', 'pastel', 'bright', 'dark', 'colorblind', 'rainbow'])\n",
    "def plot_dicount_range(selection, color):\n",
    "    plt.figure(constrained_layout=True, figsize=(20,15))\n",
    "    \n",
    "    if selection == 'Category':\n",
    "        discount_counts = (df.groupby(['Discount Range'])['category'].value_counts(normalize=True).rename('percentage').mul(100).reset_index().sort_values('category'))\n",
    "        sns.barplot(x=\"category\", y=\"percentage\", hue=\"Discount Range\", data=discount_counts, palette = color)\n",
    "        plt.xticks(rotation=90, fontsize = 15) \n",
    "        plt.yticks(fontsize = 15)\n",
    "        plt.xlabel(\"Category\", fontsize = 15)\n",
    "        plt.ylabel(\"Percentage of Products\", fontsize = 15)\n",
    "        plt.title(\"Percentage of products belonging to different Discount Range per Category\", fontsize =15)\n",
    "        plt.legend(loc='upper right')\n",
    "\n",
    "    elif selection == 'Sub Category':\n",
    "        discount_counts = (df.groupby(['Discount Range'])['sub_category'].value_counts(normalize=True).rename('percentage').mul(100).reset_index().sort_values('sub_category'))\n",
    "        sns.barplot(x=\"sub_category\", y=\"percentage\", hue=\"Discount Range\", data=discount_counts, palette = color)\n",
    "        plt.xticks(rotation=90, fontsize = 15) \n",
    "        plt.yticks(fontsize = 15)\n",
    "        plt.xlabel(\"Sub Category\", fontsize = 15)\n",
    "        plt.ylabel(\"Percentage of Products\", fontsize = 15)\n",
    "        plt.title(\"Percentage of products belonging to different Discount Raange per Sub Category\", fontsize =15)\n",
    "        plt.legend(loc='upper right')\n",
    "        \n",
    "        \n",
    "# https://towardsdatascience.com/a-complete-guide-to-plotting-categorical-variables-with-seaborn-bfe54db66bec"
   ]
  },
  {
   "cell_type": "markdown",
   "id": "119bb87f",
   "metadata": {},
   "source": [
    "## Contextual Datasets:"
   ]
  },
  {
   "cell_type": "markdown",
   "id": "fa054c90",
   "metadata": {},
   "source": [
    "We identified a couple of similar datasets upon which the idea of this dashboard can be applied to, for getting similar insights:</br>\n",
    "- https://data.world/datafiniti/womens-shoe-prices\n",
    "- https://data.world/datafiniti/mens-shoe-prices\n",
    "</br>\n",
    "\n",
    "Both these datasets consist of raw data and a listing of brands and prices, with discounts and other statistics within the Women’s and Men’s shoe Categories. A similar comparative analysis of Brand performance can be plotted using these datasets and the dashboard presented in this notebook. These can be useful in understanding how well the dashboard works in the final story, by applying the same procedures and calculations to create visualizations depicting similar insights for a deeper understanding of any Category plugged into the Dashboard.\n"
   ]
  },
  {
   "cell_type": "markdown",
   "id": "ad697cd7",
   "metadata": {},
   "source": [
    "## What I learned from this assignment, as well as what I learned from my team member:"
   ]
  },
  {
   "cell_type": "markdown",
   "id": "e7f87369",
   "metadata": {},
   "source": [
    "I have always been interested in the market trends as well as the pricing of products in retail sector. By working on this dataset, I was able to understand how the products belonging to diffrent categories are priced on an retail ecommerce platform like Flipkart. It also provided me an insight into some important features to be considered while conducting analysis on product data. \n",
    "Further, my team member Shraddha also enlightened me on how we can make use of ratings to analyze which category of products receives the best response from the customers. We also have a small piece of code where we first categorize the ratings into different rating groups and then plot a stacked bar chart using this rating groups. Shraddha's idea of converting the ratings variable into a categorical variable made it much easier to plot an accurate stacked bar chart. "
   ]
  },
  {
   "cell_type": "markdown",
   "id": "22a9e75f",
   "metadata": {},
   "source": [
    "## Outline for the Final Part of the Project and Dashboard:"
   ]
  },
  {
   "cell_type": "markdown",
   "id": "8707f6c1",
   "metadata": {},
   "source": [
    "We intend to provide an interactive dashboard to users, which enables them to easily understand trends and marketing strategies within Brands and product category competition. This will provide useful insights with interactive visualizations along with features to play around with and furher explore at a more granular level. </br>\n",
    "\n",
    "For Part 3, we would want to host our project either on GitHub or Starboard (still under analysis as to which platform might serve us better) to provide a flowing storyline with our visualizations. We forst plan on crating an introductory view into the data being used and its features. This would be somewhat similar to what we had done in the Part 1 of our project. After this, we would like to display the dashboard developed in the Part 2 of the project which will allow the users to understand and analyze the view of their choice. Further, we also plan on adding some standalone interactive plots along with some contectual visulaizations which will deliver some great product and pricing insights. Additionally, at the end, we as analysts would like to provide users with some conclusions regarding possible hypotheses and statistical insights derived from the exploration. </br> \n",
    "\n",
    "We plan on dividing the work equally, as brainstorming ideas and selecting the most optimal concept has worked out well for us as a team. We plan on individually implementing visualizations, statistical ideas and later on compare both the codes to select the most optimized/best approach. As a team, our strategy is to do a basic code for creating our visualizations and then beautify it with appropriate settings and a storyline. We also plan to decide on the platform on which we want to host our EDA.\n"
   ]
  },
  {
   "cell_type": "code",
   "execution_count": null,
   "id": "84105c7f",
   "metadata": {},
   "outputs": [],
   "source": []
  },
  {
   "cell_type": "code",
   "execution_count": null,
   "id": "53ccddff",
   "metadata": {},
   "outputs": [],
   "source": []
  },
  {
   "cell_type": "code",
   "execution_count": null,
   "id": "299a4d24",
   "metadata": {},
   "outputs": [],
   "source": []
  }
 ],
 "metadata": {
  "kernelspec": {
   "display_name": "Python 3 (ipykernel)",
   "language": "python",
   "name": "python3"
  },
  "language_info": {
   "codemirror_mode": {
    "name": "ipython",
    "version": 3
   },
   "file_extension": ".py",
   "mimetype": "text/x-python",
   "name": "python",
   "nbconvert_exporter": "python",
   "pygments_lexer": "ipython3",
   "version": "3.7.12"
  }
 },
 "nbformat": 4,
 "nbformat_minor": 5
}
